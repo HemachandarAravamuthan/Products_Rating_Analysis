{
 "cells": [
  {
   "cell_type": "markdown",
   "id": "f9e203c1-faae-40b8-8863-325129a79c4a",
   "metadata": {},
   "source": [
    "### Getting Started"
   ]
  },
  {
   "cell_type": "markdown",
   "id": "d7cd721f-e7ae-482e-82f6-850390b10afc",
   "metadata": {},
   "source": [
    "#### Understanding the data"
   ]
  },
  {
   "cell_type": "code",
   "execution_count": 1,
   "id": "7a6011bf-a1b7-4739-a066-a5fac8436c75",
   "metadata": {},
   "outputs": [],
   "source": [
    "# Importing the required packages\n",
    "import pandas as pd\n",
    "import numpy as np\n",
    "import seaborn as sns"
   ]
  },
  {
   "cell_type": "code",
   "execution_count": 2,
   "id": "ef277628-8486-4a97-9fbf-d59c427d4cab",
   "metadata": {},
   "outputs": [],
   "source": [
    "# Reading the data\n",
    "data=pd.read_json(r'fashion_products_dataset.json')"
   ]
  },
  {
   "cell_type": "code",
   "execution_count": 3,
   "id": "574fc9b2-0b3d-402a-9fce-68fead8cef87",
   "metadata": {},
   "outputs": [
    {
     "data": {
      "text/plain": [
       "Index(['_id', 'actual_price', 'average_rating', 'brand', 'category',\n",
       "       'crawled_at', 'description', 'discount', 'images', 'out_of_stock',\n",
       "       'pid', 'product_details', 'seller', 'selling_price', 'sub_category',\n",
       "       'title', 'url'],\n",
       "      dtype='object')"
      ]
     },
     "execution_count": 3,
     "metadata": {},
     "output_type": "execute_result"
    }
   ],
   "source": [
    "# Column name\n",
    "data.columns"
   ]
  },
  {
   "cell_type": "code",
   "execution_count": 4,
   "id": "5059ad82-2e20-4e1a-9861-153a76fbf664",
   "metadata": {},
   "outputs": [
    {
     "data": {
      "text/plain": [
       "(30000, 17)"
      ]
     },
     "execution_count": 4,
     "metadata": {},
     "output_type": "execute_result"
    }
   ],
   "source": [
    "# Datashape\n",
    "data.shape"
   ]
  },
  {
   "cell_type": "code",
   "execution_count": 5,
   "id": "e6f2f2c3-d5ce-4292-bf4b-75f115b042bc",
   "metadata": {},
   "outputs": [
    {
     "data": {
      "text/html": [
       "<div>\n",
       "<style scoped>\n",
       "    .dataframe tbody tr th:only-of-type {\n",
       "        vertical-align: middle;\n",
       "    }\n",
       "\n",
       "    .dataframe tbody tr th {\n",
       "        vertical-align: top;\n",
       "    }\n",
       "\n",
       "    .dataframe thead th {\n",
       "        text-align: right;\n",
       "    }\n",
       "</style>\n",
       "<table border=\"1\" class=\"dataframe\">\n",
       "  <thead>\n",
       "    <tr style=\"text-align: right;\">\n",
       "      <th></th>\n",
       "      <th>_id</th>\n",
       "      <th>actual_price</th>\n",
       "      <th>average_rating</th>\n",
       "      <th>brand</th>\n",
       "      <th>category</th>\n",
       "      <th>crawled_at</th>\n",
       "      <th>description</th>\n",
       "      <th>discount</th>\n",
       "      <th>images</th>\n",
       "      <th>out_of_stock</th>\n",
       "      <th>pid</th>\n",
       "      <th>product_details</th>\n",
       "      <th>seller</th>\n",
       "      <th>selling_price</th>\n",
       "      <th>sub_category</th>\n",
       "      <th>title</th>\n",
       "      <th>url</th>\n",
       "    </tr>\n",
       "  </thead>\n",
       "  <tbody>\n",
       "    <tr>\n",
       "      <th>15437</th>\n",
       "      <td>f0172025-22de-5041-9d21-63e13037ae18</td>\n",
       "      <td>300</td>\n",
       "      <td>1.3</td>\n",
       "      <td>Lafabriquei</td>\n",
       "      <td>Clothing and Accessories</td>\n",
       "      <td>2021-02-10 23:06:01</td>\n",
       "      <td>Men's Traditional cotton underwear with String...</td>\n",
       "      <td>17% off</td>\n",
       "      <td>[https://rukminim1.flixcart.com/image/128/128/...</td>\n",
       "      <td>False</td>\n",
       "      <td>BXRFGRU7HABWU2RF</td>\n",
       "      <td>[{'Color': 'Light Green'}, {'Fabric': 'Cotton ...</td>\n",
       "      <td>Lafabrique</td>\n",
       "      <td>249</td>\n",
       "      <td>Innerwear and Swimwear</td>\n",
       "      <td>Striped Men Boxer  (Pack of 1)</td>\n",
       "      <td>https://www.flipkart.com/lafabriqueind-striped...</td>\n",
       "    </tr>\n",
       "    <tr>\n",
       "      <th>9991</th>\n",
       "      <td>62d8fe21-082d-530a-8a45-e8aeecb0b7fc</td>\n",
       "      <td>1,299</td>\n",
       "      <td>3.3</td>\n",
       "      <td>Breakboun</td>\n",
       "      <td>Clothing and Accessories</td>\n",
       "      <td>2021-02-10 22:02:18</td>\n",
       "      <td></td>\n",
       "      <td>50% off</td>\n",
       "      <td>[https://rukminim1.flixcart.com/image/128/128/...</td>\n",
       "      <td>False</td>\n",
       "      <td>SRTFWHDUQSZCZWVZ</td>\n",
       "      <td>[{'Fabric': 'Cotton Blend'}, {'Pattern': 'Soli...</td>\n",
       "      <td>BREAKBOUNCE</td>\n",
       "      <td>649</td>\n",
       "      <td>Bottomwear</td>\n",
       "      <td>Solid Men Grey Cargo Shorts</td>\n",
       "      <td>https://www.flipkart.com/breakbounce-solid-men...</td>\n",
       "    </tr>\n",
       "    <tr>\n",
       "      <th>7061</th>\n",
       "      <td>cc678ace-ddfa-5a23-aee5-c88eb25a5e96</td>\n",
       "      <td>1,299</td>\n",
       "      <td>5</td>\n",
       "      <td>Dudli</td>\n",
       "      <td>Clothing and Accessories</td>\n",
       "      <td>2021-02-10 21:26:15</td>\n",
       "      <td></td>\n",
       "      <td>46% off</td>\n",
       "      <td>[https://rukminim1.flixcart.com/image/128/128/...</td>\n",
       "      <td>False</td>\n",
       "      <td>TSHFF4WQCJGGREYM</td>\n",
       "      <td>[{'Type': 'Polo Neck'}, {'Sleeve': 'Half Sleev...</td>\n",
       "      <td>DudlindFashion</td>\n",
       "      <td>699</td>\n",
       "      <td>Topwear</td>\n",
       "      <td>Solid Men Polo Neck Green T-Shirt</td>\n",
       "      <td>https://www.flipkart.com/dudlind-solid-men-pol...</td>\n",
       "    </tr>\n",
       "  </tbody>\n",
       "</table>\n",
       "</div>"
      ],
      "text/plain": [
       "                                        _id actual_price average_rating  \\\n",
       "15437  f0172025-22de-5041-9d21-63e13037ae18          300            1.3   \n",
       "9991   62d8fe21-082d-530a-8a45-e8aeecb0b7fc        1,299            3.3   \n",
       "7061   cc678ace-ddfa-5a23-aee5-c88eb25a5e96        1,299              5   \n",
       "\n",
       "             brand                  category          crawled_at  \\\n",
       "15437  Lafabriquei  Clothing and Accessories 2021-02-10 23:06:01   \n",
       "9991     Breakboun  Clothing and Accessories 2021-02-10 22:02:18   \n",
       "7061         Dudli  Clothing and Accessories 2021-02-10 21:26:15   \n",
       "\n",
       "                                             description discount  \\\n",
       "15437  Men's Traditional cotton underwear with String...  17% off   \n",
       "9991                                                      50% off   \n",
       "7061                                                      46% off   \n",
       "\n",
       "                                                  images  out_of_stock  \\\n",
       "15437  [https://rukminim1.flixcart.com/image/128/128/...         False   \n",
       "9991   [https://rukminim1.flixcart.com/image/128/128/...         False   \n",
       "7061   [https://rukminim1.flixcart.com/image/128/128/...         False   \n",
       "\n",
       "                    pid                                    product_details  \\\n",
       "15437  BXRFGRU7HABWU2RF  [{'Color': 'Light Green'}, {'Fabric': 'Cotton ...   \n",
       "9991   SRTFWHDUQSZCZWVZ  [{'Fabric': 'Cotton Blend'}, {'Pattern': 'Soli...   \n",
       "7061   TSHFF4WQCJGGREYM  [{'Type': 'Polo Neck'}, {'Sleeve': 'Half Sleev...   \n",
       "\n",
       "               seller selling_price            sub_category  \\\n",
       "15437      Lafabrique           249  Innerwear and Swimwear   \n",
       "9991      BREAKBOUNCE           649              Bottomwear   \n",
       "7061   DudlindFashion           699                 Topwear   \n",
       "\n",
       "                                   title  \\\n",
       "15437     Striped Men Boxer  (Pack of 1)   \n",
       "9991         Solid Men Grey Cargo Shorts   \n",
       "7061   Solid Men Polo Neck Green T-Shirt   \n",
       "\n",
       "                                                     url  \n",
       "15437  https://www.flipkart.com/lafabriqueind-striped...  \n",
       "9991   https://www.flipkart.com/breakbounce-solid-men...  \n",
       "7061   https://www.flipkart.com/dudlind-solid-men-pol...  "
      ]
     },
     "execution_count": 5,
     "metadata": {},
     "output_type": "execute_result"
    }
   ],
   "source": [
    "# Sample\n",
    "data.sample(3)"
   ]
  },
  {
   "cell_type": "code",
   "execution_count": 6,
   "id": "fb4e13bb-b3d9-437d-bb56-79f8b023bc7b",
   "metadata": {},
   "outputs": [
    {
     "data": {
      "text/plain": [
       "[{'Style Code': '1005COMBO2'},\n",
       " {'Closure': 'Elastic'},\n",
       " {'Pockets': 'Side Pockets'},\n",
       " {'Fabric': 'Cotton Blend'},\n",
       " {'Pattern': 'Solid'},\n",
       " {'Color': 'Multicolor'}]"
      ]
     },
     "execution_count": 6,
     "metadata": {},
     "output_type": "execute_result"
    }
   ],
   "source": [
    "# Product_detail column\n",
    "data['product_details'].tolist()[0]"
   ]
  },
  {
   "cell_type": "markdown",
   "id": "13dab0e5-aed2-40c2-89f9-4d809fcac03d",
   "metadata": {},
   "source": [
    "#### Data cleaning"
   ]
  },
  {
   "cell_type": "markdown",
   "id": "948a87fa-f48d-4f1b-b6b5-c68507e3e41b",
   "metadata": {},
   "source": [
    "##### Datatypes"
   ]
  },
  {
   "cell_type": "code",
   "execution_count": 7,
   "id": "0e45297e-908f-41ba-bbd9-f980c8a881f6",
   "metadata": {},
   "outputs": [
    {
     "data": {
      "text/plain": [
       "_id                        object\n",
       "actual_price               object\n",
       "average_rating             object\n",
       "brand                      object\n",
       "category                   object\n",
       "crawled_at         datetime64[ns]\n",
       "description                object\n",
       "discount                   object\n",
       "images                     object\n",
       "out_of_stock                 bool\n",
       "pid                        object\n",
       "product_details            object\n",
       "seller                     object\n",
       "selling_price              object\n",
       "sub_category               object\n",
       "title                      object\n",
       "url                        object\n",
       "dtype: object"
      ]
     },
     "execution_count": 7,
     "metadata": {},
     "output_type": "execute_result"
    }
   ],
   "source": [
    "# Data type\n",
    "data.dtypes"
   ]
  },
  {
   "cell_type": "code",
   "execution_count": 8,
   "id": "1b3220d8-e0fb-419f-a9e1-b42caa87fbb4",
   "metadata": {},
   "outputs": [],
   "source": [
    "# Function to convert string to int\n",
    "def comma(x):\n",
    "    if x != '':\n",
    "        return(int(x.replace(',','')))"
   ]
  },
  {
   "cell_type": "code",
   "execution_count": 9,
   "id": "18a95dff-a6d7-4747-a305-1411de69a71e",
   "metadata": {},
   "outputs": [],
   "source": [
    "# Datatype conversion\n",
    "data['selling_price']=data['selling_price'].astype(str).apply(comma)\n",
    "data['actual_price']=data['actual_price'].astype(str).apply(comma)"
   ]
  },
  {
   "cell_type": "code",
   "execution_count": 10,
   "id": "a7b82795-b794-4d32-b209-5f2135fc590c",
   "metadata": {},
   "outputs": [],
   "source": [
    "# Replacing empty with nan\n",
    "data=data.replace('',np.nan)"
   ]
  },
  {
   "cell_type": "code",
   "execution_count": 11,
   "id": "153eb4cc-a2cc-45d4-8897-28b755d1449b",
   "metadata": {},
   "outputs": [],
   "source": [
    "# Aerage rating column datatype\n",
    "data['average_rating']=data['average_rating'].astype(float)"
   ]
  },
  {
   "cell_type": "code",
   "execution_count": 12,
   "id": "a232f835-3a4c-451f-9f97-767d9eb1db19",
   "metadata": {},
   "outputs": [],
   "source": [
    "# Discount datatype conversion\n",
    "data['discount']=data['discount'].apply(lambda x: str(x).rstrip('% off')).astype(float)"
   ]
  },
  {
   "cell_type": "markdown",
   "id": "3c48d2af-183b-4800-8880-e469c4535241",
   "metadata": {},
   "source": [
    "##### Inconsistent Data"
   ]
  },
  {
   "cell_type": "code",
   "execution_count": 13,
   "id": "d7b176f9-fc72-4639-990a-4076560e8965",
   "metadata": {},
   "outputs": [
    {
     "data": {
      "text/html": [
       "<div>\n",
       "<style scoped>\n",
       "    .dataframe tbody tr th:only-of-type {\n",
       "        vertical-align: middle;\n",
       "    }\n",
       "\n",
       "    .dataframe tbody tr th {\n",
       "        vertical-align: top;\n",
       "    }\n",
       "\n",
       "    .dataframe thead th {\n",
       "        text-align: right;\n",
       "    }\n",
       "</style>\n",
       "<table border=\"1\" class=\"dataframe\">\n",
       "  <thead>\n",
       "    <tr style=\"text-align: right;\">\n",
       "      <th></th>\n",
       "      <th>_id</th>\n",
       "      <th>actual_price</th>\n",
       "      <th>average_rating</th>\n",
       "      <th>brand</th>\n",
       "      <th>category</th>\n",
       "      <th>crawled_at</th>\n",
       "      <th>description</th>\n",
       "      <th>discount</th>\n",
       "      <th>images</th>\n",
       "      <th>out_of_stock</th>\n",
       "      <th>pid</th>\n",
       "      <th>product_details</th>\n",
       "      <th>seller</th>\n",
       "      <th>selling_price</th>\n",
       "      <th>sub_category</th>\n",
       "      <th>title</th>\n",
       "      <th>url</th>\n",
       "    </tr>\n",
       "  </thead>\n",
       "  <tbody>\n",
       "    <tr>\n",
       "      <th>213</th>\n",
       "      <td>b72c1f5a-96a9-5bb5-b6fb-165a6a6d6fdf</td>\n",
       "      <td>899.0</td>\n",
       "      <td>4.3</td>\n",
       "      <td>DISCOUNT OUTL</td>\n",
       "      <td>Clothing and Accessories</td>\n",
       "      <td>2021-02-10 20:13:33</td>\n",
       "      <td>NaN</td>\n",
       "      <td>62.0</td>\n",
       "      <td>[https://rukminim1.flixcart.com/image/128/128/...</td>\n",
       "      <td>False</td>\n",
       "      <td>TSHFZ67FRJPUYAWZ</td>\n",
       "      <td>[{'Type': 'Polo Neck'}, {'Sleeve': 'Half Sleev...</td>\n",
       "      <td>S P TRADERS</td>\n",
       "      <td>339.0</td>\n",
       "      <td>Topwear</td>\n",
       "      <td>Solid Men Polo Neck Blue T-Shirt</td>\n",
       "      <td>https://www.flipkart.com/discount-outlet-solid...</td>\n",
       "    </tr>\n",
       "    <tr>\n",
       "      <th>215</th>\n",
       "      <td>3f4c5da9-e7b3-5ddb-9483-18acafe9095c</td>\n",
       "      <td>599.0</td>\n",
       "      <td>4.8</td>\n",
       "      <td>DISCOUNT OUTL</td>\n",
       "      <td>Clothing and Accessories</td>\n",
       "      <td>2021-02-10 20:13:35</td>\n",
       "      <td>Easy-to-wear and truly comfy, this tee is for ...</td>\n",
       "      <td>51.0</td>\n",
       "      <td>[https://rukminim1.flixcart.com/image/128/128/...</td>\n",
       "      <td>False</td>\n",
       "      <td>TSHFWTRVHPKXGTVJ</td>\n",
       "      <td>[{'Type': 'Round Neck'}, {'Sleeve': 'Short Sle...</td>\n",
       "      <td>S P TRADERS</td>\n",
       "      <td>289.0</td>\n",
       "      <td>Topwear</td>\n",
       "      <td>Solid Men Round Neck Red T-Shirt</td>\n",
       "      <td>https://www.flipkart.com/discount-outlet-solid...</td>\n",
       "    </tr>\n",
       "    <tr>\n",
       "      <th>216</th>\n",
       "      <td>717dbc88-1465-5ba3-bc53-953c59149f4a</td>\n",
       "      <td>569.0</td>\n",
       "      <td>3.8</td>\n",
       "      <td>DISCOUNT OUTL</td>\n",
       "      <td>Clothing and Accessories</td>\n",
       "      <td>2021-02-10 20:13:35</td>\n",
       "      <td>NaN</td>\n",
       "      <td>47.0</td>\n",
       "      <td>[https://rukminim1.flixcart.com/image/128/128/...</td>\n",
       "      <td>False</td>\n",
       "      <td>TSHFYF6BFWFHZCG4</td>\n",
       "      <td>[{'Type': 'Polo Neck'}, {'Sleeve': 'Half Sleev...</td>\n",
       "      <td>S P TRADERS</td>\n",
       "      <td>297.0</td>\n",
       "      <td>Topwear</td>\n",
       "      <td>Self Design Men Polo Neck Red T-Shirt</td>\n",
       "      <td>https://www.flipkart.com/discount-outlet-self-...</td>\n",
       "    </tr>\n",
       "    <tr>\n",
       "      <th>218</th>\n",
       "      <td>e85da67a-d3ec-57a6-a77d-e395bfddd492</td>\n",
       "      <td>899.0</td>\n",
       "      <td>3.9</td>\n",
       "      <td>DISCOUNT OUTL</td>\n",
       "      <td>Clothing and Accessories</td>\n",
       "      <td>2021-02-10 20:13:36</td>\n",
       "      <td>NaN</td>\n",
       "      <td>44.0</td>\n",
       "      <td>[https://rukminim1.flixcart.com/image/128/128/...</td>\n",
       "      <td>False</td>\n",
       "      <td>TSHFYFASUQVT8ZVE</td>\n",
       "      <td>[{'Type': 'Polo Neck'}, {'Sleeve': 'Half Sleev...</td>\n",
       "      <td>S P TRADERS</td>\n",
       "      <td>499.0</td>\n",
       "      <td>Topwear</td>\n",
       "      <td>Solid Men Polo Neck Dark Blue, Blue T-Shirt  (...</td>\n",
       "      <td>https://www.flipkart.com/discount-outlet-solid...</td>\n",
       "    </tr>\n",
       "    <tr>\n",
       "      <th>219</th>\n",
       "      <td>3f727bc6-9b92-5040-b28a-4d7a8277cb1d</td>\n",
       "      <td>1625.0</td>\n",
       "      <td>4.3</td>\n",
       "      <td>DISCOUNT OUTL</td>\n",
       "      <td>Clothing and Accessories</td>\n",
       "      <td>2021-02-10 20:13:37</td>\n",
       "      <td>Crafted in a pure cotton fabric, this long-sle...</td>\n",
       "      <td>60.0</td>\n",
       "      <td>[https://rukminim1.flixcart.com/image/128/128/...</td>\n",
       "      <td>False</td>\n",
       "      <td>SHTFVVCNDWPWPQDE</td>\n",
       "      <td>[{'Pack of': '1'}, {'Style Code': 'C501_NAVYBL...</td>\n",
       "      <td>S P TRADERS</td>\n",
       "      <td>649.0</td>\n",
       "      <td>Topwear</td>\n",
       "      <td>Men Tailored Fit Solid Casual Shirt</td>\n",
       "      <td>https://www.flipkart.com/discount-outlet-men-s...</td>\n",
       "    </tr>\n",
       "    <tr>\n",
       "      <th>...</th>\n",
       "      <td>...</td>\n",
       "      <td>...</td>\n",
       "      <td>...</td>\n",
       "      <td>...</td>\n",
       "      <td>...</td>\n",
       "      <td>...</td>\n",
       "      <td>...</td>\n",
       "      <td>...</td>\n",
       "      <td>...</td>\n",
       "      <td>...</td>\n",
       "      <td>...</td>\n",
       "      <td>...</td>\n",
       "      <td>...</td>\n",
       "      <td>...</td>\n",
       "      <td>...</td>\n",
       "      <td>...</td>\n",
       "      <td>...</td>\n",
       "    </tr>\n",
       "    <tr>\n",
       "      <th>29861</th>\n",
       "      <td>1cb0bac7-5108-570b-b581-65bd45fdc8db</td>\n",
       "      <td>1250.0</td>\n",
       "      <td>3.8</td>\n",
       "      <td>Oka</td>\n",
       "      <td>Clothing and Accessories</td>\n",
       "      <td>2021-02-11 01:30:48</td>\n",
       "      <td>‘OKANE’ endeavors to continue to be a leader i...</td>\n",
       "      <td>44.0</td>\n",
       "      <td>[https://rukminim1.flixcart.com/image/128/128/...</td>\n",
       "      <td>False</td>\n",
       "      <td>TSHFV8S9NBUYGFZG</td>\n",
       "      <td>[{'Type': 'Polo Neck'}, {'Sleeve': 'Full Sleev...</td>\n",
       "      <td>OKANE</td>\n",
       "      <td>688.0</td>\n",
       "      <td>Topwear</td>\n",
       "      <td>Solid Men Polo Neck Blue T-Shirt</td>\n",
       "      <td>https://www.flipkart.com/okane-solid-men-polo-...</td>\n",
       "    </tr>\n",
       "    <tr>\n",
       "      <th>29862</th>\n",
       "      <td>fec68815-3c03-5a5e-9860-83f2949de85b</td>\n",
       "      <td>1199.0</td>\n",
       "      <td>3.8</td>\n",
       "      <td>Oka</td>\n",
       "      <td>Clothing and Accessories</td>\n",
       "      <td>2021-02-11 01:30:48</td>\n",
       "      <td>NaN</td>\n",
       "      <td>44.0</td>\n",
       "      <td>[https://rukminim1.flixcart.com/image/128/128/...</td>\n",
       "      <td>False</td>\n",
       "      <td>TSHFT4FAWVFV2VC4</td>\n",
       "      <td>[{'Type': 'Collared Neck'}, {'Sleeve': 'Half S...</td>\n",
       "      <td>OKANE</td>\n",
       "      <td>660.0</td>\n",
       "      <td>Topwear</td>\n",
       "      <td>Checkered Men Collared Neck Blue T-Shirt</td>\n",
       "      <td>https://www.flipkart.com/okane-checkered-men-c...</td>\n",
       "    </tr>\n",
       "    <tr>\n",
       "      <th>29864</th>\n",
       "      <td>12bde1e0-fd5b-506b-90f9-5fdd06317c62</td>\n",
       "      <td>1149.0</td>\n",
       "      <td>3.8</td>\n",
       "      <td>Oka</td>\n",
       "      <td>Clothing and Accessories</td>\n",
       "      <td>2021-02-11 01:30:49</td>\n",
       "      <td>‘OKANE’ endeavors to continue to be a leader i...</td>\n",
       "      <td>44.0</td>\n",
       "      <td>[https://rukminim1.flixcart.com/image/128/128/...</td>\n",
       "      <td>False</td>\n",
       "      <td>TSHFJK3KMFSQWDNW</td>\n",
       "      <td>[{'Type': 'Polo Neck'}, {'Sleeve': 'Half Sleev...</td>\n",
       "      <td>OKANE</td>\n",
       "      <td>632.0</td>\n",
       "      <td>Topwear</td>\n",
       "      <td>Striped Men Polo Neck Yellow T-Shirt</td>\n",
       "      <td>https://www.flipkart.com/okane-striped-men-pol...</td>\n",
       "    </tr>\n",
       "    <tr>\n",
       "      <th>29865</th>\n",
       "      <td>9a3203e0-6dcb-5036-a01b-f9757c643cee</td>\n",
       "      <td>1149.0</td>\n",
       "      <td>3.8</td>\n",
       "      <td>Oka</td>\n",
       "      <td>Clothing and Accessories</td>\n",
       "      <td>2021-02-11 01:30:50</td>\n",
       "      <td>Enhance your look with this T-Shirt and you wi...</td>\n",
       "      <td>44.0</td>\n",
       "      <td>[https://rukminim1.flixcart.com/image/128/128/...</td>\n",
       "      <td>False</td>\n",
       "      <td>TSHFHGEYDG2ZTBM2</td>\n",
       "      <td>[{'Type': 'Polo Neck'}, {'Sleeve': 'Short Slee...</td>\n",
       "      <td>OKANE</td>\n",
       "      <td>632.0</td>\n",
       "      <td>Topwear</td>\n",
       "      <td>Striped Men Polo Neck White, Black, Yellow T-S...</td>\n",
       "      <td>https://www.flipkart.com/okane-striped-men-pol...</td>\n",
       "    </tr>\n",
       "    <tr>\n",
       "      <th>29868</th>\n",
       "      <td>bdbf472a-ad04-5ed4-a9e4-3226796a6b0d</td>\n",
       "      <td>3025.0</td>\n",
       "      <td>3.8</td>\n",
       "      <td>Oka</td>\n",
       "      <td>Clothing and Accessories</td>\n",
       "      <td>2021-02-11 01:30:51</td>\n",
       "      <td>NaN</td>\n",
       "      <td>40.0</td>\n",
       "      <td>[https://rukminim1.flixcart.com/image/128/128/...</td>\n",
       "      <td>False</td>\n",
       "      <td>JCKFX4XUHKHVHGEG</td>\n",
       "      <td>[{'Color': 'Yellow'}, {'Fabric': 'Nylon'}, {'P...</td>\n",
       "      <td>OKANE</td>\n",
       "      <td>1815.0</td>\n",
       "      <td>Winter Wear</td>\n",
       "      <td>Full Sleeve Solid Men Jacket</td>\n",
       "      <td>https://www.flipkart.com/okane-full-sleeve-sol...</td>\n",
       "    </tr>\n",
       "  </tbody>\n",
       "</table>\n",
       "<p>1920 rows × 17 columns</p>\n",
       "</div>"
      ],
      "text/plain": [
       "                                        _id  actual_price  average_rating  \\\n",
       "213    b72c1f5a-96a9-5bb5-b6fb-165a6a6d6fdf         899.0             4.3   \n",
       "215    3f4c5da9-e7b3-5ddb-9483-18acafe9095c         599.0             4.8   \n",
       "216    717dbc88-1465-5ba3-bc53-953c59149f4a         569.0             3.8   \n",
       "218    e85da67a-d3ec-57a6-a77d-e395bfddd492         899.0             3.9   \n",
       "219    3f727bc6-9b92-5040-b28a-4d7a8277cb1d        1625.0             4.3   \n",
       "...                                     ...           ...             ...   \n",
       "29861  1cb0bac7-5108-570b-b581-65bd45fdc8db        1250.0             3.8   \n",
       "29862  fec68815-3c03-5a5e-9860-83f2949de85b        1199.0             3.8   \n",
       "29864  12bde1e0-fd5b-506b-90f9-5fdd06317c62        1149.0             3.8   \n",
       "29865  9a3203e0-6dcb-5036-a01b-f9757c643cee        1149.0             3.8   \n",
       "29868  bdbf472a-ad04-5ed4-a9e4-3226796a6b0d        3025.0             3.8   \n",
       "\n",
       "               brand                  category          crawled_at  \\\n",
       "213    DISCOUNT OUTL  Clothing and Accessories 2021-02-10 20:13:33   \n",
       "215    DISCOUNT OUTL  Clothing and Accessories 2021-02-10 20:13:35   \n",
       "216    DISCOUNT OUTL  Clothing and Accessories 2021-02-10 20:13:35   \n",
       "218    DISCOUNT OUTL  Clothing and Accessories 2021-02-10 20:13:36   \n",
       "219    DISCOUNT OUTL  Clothing and Accessories 2021-02-10 20:13:37   \n",
       "...              ...                       ...                 ...   \n",
       "29861            Oka  Clothing and Accessories 2021-02-11 01:30:48   \n",
       "29862            Oka  Clothing and Accessories 2021-02-11 01:30:48   \n",
       "29864            Oka  Clothing and Accessories 2021-02-11 01:30:49   \n",
       "29865            Oka  Clothing and Accessories 2021-02-11 01:30:50   \n",
       "29868            Oka  Clothing and Accessories 2021-02-11 01:30:51   \n",
       "\n",
       "                                             description  discount  \\\n",
       "213                                                  NaN      62.0   \n",
       "215    Easy-to-wear and truly comfy, this tee is for ...      51.0   \n",
       "216                                                  NaN      47.0   \n",
       "218                                                  NaN      44.0   \n",
       "219    Crafted in a pure cotton fabric, this long-sle...      60.0   \n",
       "...                                                  ...       ...   \n",
       "29861  ‘OKANE’ endeavors to continue to be a leader i...      44.0   \n",
       "29862                                                NaN      44.0   \n",
       "29864  ‘OKANE’ endeavors to continue to be a leader i...      44.0   \n",
       "29865  Enhance your look with this T-Shirt and you wi...      44.0   \n",
       "29868                                                NaN      40.0   \n",
       "\n",
       "                                                  images  out_of_stock  \\\n",
       "213    [https://rukminim1.flixcart.com/image/128/128/...         False   \n",
       "215    [https://rukminim1.flixcart.com/image/128/128/...         False   \n",
       "216    [https://rukminim1.flixcart.com/image/128/128/...         False   \n",
       "218    [https://rukminim1.flixcart.com/image/128/128/...         False   \n",
       "219    [https://rukminim1.flixcart.com/image/128/128/...         False   \n",
       "...                                                  ...           ...   \n",
       "29861  [https://rukminim1.flixcart.com/image/128/128/...         False   \n",
       "29862  [https://rukminim1.flixcart.com/image/128/128/...         False   \n",
       "29864  [https://rukminim1.flixcart.com/image/128/128/...         False   \n",
       "29865  [https://rukminim1.flixcart.com/image/128/128/...         False   \n",
       "29868  [https://rukminim1.flixcart.com/image/128/128/...         False   \n",
       "\n",
       "                    pid                                    product_details  \\\n",
       "213    TSHFZ67FRJPUYAWZ  [{'Type': 'Polo Neck'}, {'Sleeve': 'Half Sleev...   \n",
       "215    TSHFWTRVHPKXGTVJ  [{'Type': 'Round Neck'}, {'Sleeve': 'Short Sle...   \n",
       "216    TSHFYF6BFWFHZCG4  [{'Type': 'Polo Neck'}, {'Sleeve': 'Half Sleev...   \n",
       "218    TSHFYFASUQVT8ZVE  [{'Type': 'Polo Neck'}, {'Sleeve': 'Half Sleev...   \n",
       "219    SHTFVVCNDWPWPQDE  [{'Pack of': '1'}, {'Style Code': 'C501_NAVYBL...   \n",
       "...                 ...                                                ...   \n",
       "29861  TSHFV8S9NBUYGFZG  [{'Type': 'Polo Neck'}, {'Sleeve': 'Full Sleev...   \n",
       "29862  TSHFT4FAWVFV2VC4  [{'Type': 'Collared Neck'}, {'Sleeve': 'Half S...   \n",
       "29864  TSHFJK3KMFSQWDNW  [{'Type': 'Polo Neck'}, {'Sleeve': 'Half Sleev...   \n",
       "29865  TSHFHGEYDG2ZTBM2  [{'Type': 'Polo Neck'}, {'Sleeve': 'Short Slee...   \n",
       "29868  JCKFX4XUHKHVHGEG  [{'Color': 'Yellow'}, {'Fabric': 'Nylon'}, {'P...   \n",
       "\n",
       "            seller  selling_price sub_category  \\\n",
       "213    S P TRADERS          339.0      Topwear   \n",
       "215    S P TRADERS          289.0      Topwear   \n",
       "216    S P TRADERS          297.0      Topwear   \n",
       "218    S P TRADERS          499.0      Topwear   \n",
       "219    S P TRADERS          649.0      Topwear   \n",
       "...            ...            ...          ...   \n",
       "29861        OKANE          688.0      Topwear   \n",
       "29862        OKANE          660.0      Topwear   \n",
       "29864        OKANE          632.0      Topwear   \n",
       "29865        OKANE          632.0      Topwear   \n",
       "29868        OKANE         1815.0  Winter Wear   \n",
       "\n",
       "                                                   title  \\\n",
       "213                     Solid Men Polo Neck Blue T-Shirt   \n",
       "215                     Solid Men Round Neck Red T-Shirt   \n",
       "216                Self Design Men Polo Neck Red T-Shirt   \n",
       "218    Solid Men Polo Neck Dark Blue, Blue T-Shirt  (...   \n",
       "219                  Men Tailored Fit Solid Casual Shirt   \n",
       "...                                                  ...   \n",
       "29861                   Solid Men Polo Neck Blue T-Shirt   \n",
       "29862           Checkered Men Collared Neck Blue T-Shirt   \n",
       "29864               Striped Men Polo Neck Yellow T-Shirt   \n",
       "29865  Striped Men Polo Neck White, Black, Yellow T-S...   \n",
       "29868                       Full Sleeve Solid Men Jacket   \n",
       "\n",
       "                                                     url  \n",
       "213    https://www.flipkart.com/discount-outlet-solid...  \n",
       "215    https://www.flipkart.com/discount-outlet-solid...  \n",
       "216    https://www.flipkart.com/discount-outlet-self-...  \n",
       "218    https://www.flipkart.com/discount-outlet-solid...  \n",
       "219    https://www.flipkart.com/discount-outlet-men-s...  \n",
       "...                                                  ...  \n",
       "29861  https://www.flipkart.com/okane-solid-men-polo-...  \n",
       "29862  https://www.flipkart.com/okane-checkered-men-c...  \n",
       "29864  https://www.flipkart.com/okane-striped-men-pol...  \n",
       "29865  https://www.flipkart.com/okane-striped-men-pol...  \n",
       "29868  https://www.flipkart.com/okane-full-sleeve-sol...  \n",
       "\n",
       "[1920 rows x 17 columns]"
      ]
     },
     "execution_count": 13,
     "metadata": {},
     "output_type": "execute_result"
    }
   ],
   "source": [
    "# Checking for duplicates\n",
    "duplicates=data[data.duplicated(subset=['pid'])]\n",
    "duplicates"
   ]
  },
  {
   "cell_type": "code",
   "execution_count": 14,
   "id": "8cb48226-2b11-4b89-bcb9-d5009598ccd5",
   "metadata": {},
   "outputs": [
    {
     "data": {
      "text/html": [
       "<div>\n",
       "<style scoped>\n",
       "    .dataframe tbody tr th:only-of-type {\n",
       "        vertical-align: middle;\n",
       "    }\n",
       "\n",
       "    .dataframe tbody tr th {\n",
       "        vertical-align: top;\n",
       "    }\n",
       "\n",
       "    .dataframe thead th {\n",
       "        text-align: right;\n",
       "    }\n",
       "</style>\n",
       "<table border=\"1\" class=\"dataframe\">\n",
       "  <thead>\n",
       "    <tr style=\"text-align: right;\">\n",
       "      <th></th>\n",
       "      <th>_id</th>\n",
       "      <th>actual_price</th>\n",
       "      <th>average_rating</th>\n",
       "      <th>brand</th>\n",
       "      <th>category</th>\n",
       "      <th>crawled_at</th>\n",
       "      <th>description</th>\n",
       "      <th>discount</th>\n",
       "      <th>images</th>\n",
       "      <th>out_of_stock</th>\n",
       "      <th>pid</th>\n",
       "      <th>product_details</th>\n",
       "      <th>seller</th>\n",
       "      <th>selling_price</th>\n",
       "      <th>sub_category</th>\n",
       "      <th>title</th>\n",
       "      <th>url</th>\n",
       "    </tr>\n",
       "  </thead>\n",
       "  <tbody>\n",
       "    <tr>\n",
       "      <th>29860</th>\n",
       "      <td>8eeb0113-025b-5baf-8269-50fabace1e4e</td>\n",
       "      <td>3025.0</td>\n",
       "      <td>3.8</td>\n",
       "      <td>Oka</td>\n",
       "      <td>Clothing and Accessories</td>\n",
       "      <td>2021-02-11 01:30:47</td>\n",
       "      <td>NaN</td>\n",
       "      <td>40.0</td>\n",
       "      <td>[https://rukminim1.flixcart.com/image/128/128/...</td>\n",
       "      <td>False</td>\n",
       "      <td>JCKFX4XUHKHVHGEG</td>\n",
       "      <td>[{'Color': 'Yellow'}, {'Fabric': 'Nylon'}, {'P...</td>\n",
       "      <td>OKANE</td>\n",
       "      <td>1815.0</td>\n",
       "      <td>Winter Wear</td>\n",
       "      <td>Full Sleeve Solid Men Jacket</td>\n",
       "      <td>https://www.flipkart.com/okane-full-sleeve-sol...</td>\n",
       "    </tr>\n",
       "    <tr>\n",
       "      <th>29868</th>\n",
       "      <td>bdbf472a-ad04-5ed4-a9e4-3226796a6b0d</td>\n",
       "      <td>3025.0</td>\n",
       "      <td>3.8</td>\n",
       "      <td>Oka</td>\n",
       "      <td>Clothing and Accessories</td>\n",
       "      <td>2021-02-11 01:30:51</td>\n",
       "      <td>NaN</td>\n",
       "      <td>40.0</td>\n",
       "      <td>[https://rukminim1.flixcart.com/image/128/128/...</td>\n",
       "      <td>False</td>\n",
       "      <td>JCKFX4XUHKHVHGEG</td>\n",
       "      <td>[{'Color': 'Yellow'}, {'Fabric': 'Nylon'}, {'P...</td>\n",
       "      <td>OKANE</td>\n",
       "      <td>1815.0</td>\n",
       "      <td>Winter Wear</td>\n",
       "      <td>Full Sleeve Solid Men Jacket</td>\n",
       "      <td>https://www.flipkart.com/okane-full-sleeve-sol...</td>\n",
       "    </tr>\n",
       "  </tbody>\n",
       "</table>\n",
       "</div>"
      ],
      "text/plain": [
       "                                        _id  actual_price  average_rating  \\\n",
       "29860  8eeb0113-025b-5baf-8269-50fabace1e4e        3025.0             3.8   \n",
       "29868  bdbf472a-ad04-5ed4-a9e4-3226796a6b0d        3025.0             3.8   \n",
       "\n",
       "      brand                  category          crawled_at description  \\\n",
       "29860   Oka  Clothing and Accessories 2021-02-11 01:30:47         NaN   \n",
       "29868   Oka  Clothing and Accessories 2021-02-11 01:30:51         NaN   \n",
       "\n",
       "       discount                                             images  \\\n",
       "29860      40.0  [https://rukminim1.flixcart.com/image/128/128/...   \n",
       "29868      40.0  [https://rukminim1.flixcart.com/image/128/128/...   \n",
       "\n",
       "       out_of_stock               pid  \\\n",
       "29860         False  JCKFX4XUHKHVHGEG   \n",
       "29868         False  JCKFX4XUHKHVHGEG   \n",
       "\n",
       "                                         product_details seller  \\\n",
       "29860  [{'Color': 'Yellow'}, {'Fabric': 'Nylon'}, {'P...  OKANE   \n",
       "29868  [{'Color': 'Yellow'}, {'Fabric': 'Nylon'}, {'P...  OKANE   \n",
       "\n",
       "       selling_price sub_category                         title  \\\n",
       "29860         1815.0  Winter Wear  Full Sleeve Solid Men Jacket   \n",
       "29868         1815.0  Winter Wear  Full Sleeve Solid Men Jacket   \n",
       "\n",
       "                                                     url  \n",
       "29860  https://www.flipkart.com/okane-full-sleeve-sol...  \n",
       "29868  https://www.flipkart.com/okane-full-sleeve-sol...  "
      ]
     },
     "execution_count": 14,
     "metadata": {},
     "output_type": "execute_result"
    }
   ],
   "source": [
    "# Checking a value\n",
    "data[data['pid']=='JCKFX4XUHKHVHGEG']"
   ]
  },
  {
   "cell_type": "code",
   "execution_count": 15,
   "id": "50302629-459f-4fe3-b035-995bf5266f14",
   "metadata": {},
   "outputs": [],
   "source": [
    "# Droping the duplicates\n",
    "data.drop_duplicates(subset=['pid'],inplace=True)"
   ]
  },
  {
   "cell_type": "code",
   "execution_count": 16,
   "id": "61baebc5-3951-4eaa-a3dc-92007eb613dc",
   "metadata": {},
   "outputs": [
    {
     "data": {
      "text/plain": [
       "0"
      ]
     },
     "execution_count": 16,
     "metadata": {},
     "output_type": "execute_result"
    }
   ],
   "source": [
    "# Checking duplicates after droping\n",
    "data.duplicated(subset=['pid']).sum()"
   ]
  },
  {
   "cell_type": "code",
   "execution_count": 17,
   "id": "a0034946-9385-4211-895e-df94d7d3f889",
   "metadata": {},
   "outputs": [
    {
     "data": {
      "text/plain": [
       "(0, 17)"
      ]
     },
     "execution_count": 17,
     "metadata": {},
     "output_type": "execute_result"
    }
   ],
   "source": [
    "# Checking for data with negative rating\n",
    "data[data['average_rating']<0 ].shape"
   ]
  },
  {
   "cell_type": "code",
   "execution_count": 18,
   "id": "57a59297-199f-4e9c-9b01-388bd67ea6ec",
   "metadata": {},
   "outputs": [
    {
     "data": {
      "text/plain": [
       "(0, 17)"
      ]
     },
     "execution_count": 18,
     "metadata": {},
     "output_type": "execute_result"
    }
   ],
   "source": [
    "# Checking for rating more than 5\n",
    "data[data['average_rating']>5 ].shape"
   ]
  },
  {
   "cell_type": "code",
   "execution_count": 19,
   "id": "cb149900-59d6-4f33-8557-bb7ee44fb71b",
   "metadata": {},
   "outputs": [
    {
     "data": {
      "text/html": [
       "<div>\n",
       "<style scoped>\n",
       "    .dataframe tbody tr th:only-of-type {\n",
       "        vertical-align: middle;\n",
       "    }\n",
       "\n",
       "    .dataframe tbody tr th {\n",
       "        vertical-align: top;\n",
       "    }\n",
       "\n",
       "    .dataframe thead th {\n",
       "        text-align: right;\n",
       "    }\n",
       "</style>\n",
       "<table border=\"1\" class=\"dataframe\">\n",
       "  <thead>\n",
       "    <tr style=\"text-align: right;\">\n",
       "      <th></th>\n",
       "      <th>_id</th>\n",
       "      <th>actual_price</th>\n",
       "      <th>average_rating</th>\n",
       "      <th>brand</th>\n",
       "      <th>category</th>\n",
       "      <th>crawled_at</th>\n",
       "      <th>description</th>\n",
       "      <th>discount</th>\n",
       "      <th>images</th>\n",
       "      <th>out_of_stock</th>\n",
       "      <th>pid</th>\n",
       "      <th>product_details</th>\n",
       "      <th>seller</th>\n",
       "      <th>selling_price</th>\n",
       "      <th>sub_category</th>\n",
       "      <th>title</th>\n",
       "      <th>url</th>\n",
       "    </tr>\n",
       "  </thead>\n",
       "  <tbody>\n",
       "  </tbody>\n",
       "</table>\n",
       "</div>"
      ],
      "text/plain": [
       "Empty DataFrame\n",
       "Columns: [_id, actual_price, average_rating, brand, category, crawled_at, description, discount, images, out_of_stock, pid, product_details, seller, selling_price, sub_category, title, url]\n",
       "Index: []"
      ]
     },
     "execution_count": 19,
     "metadata": {},
     "output_type": "execute_result"
    }
   ],
   "source": [
    "# Checking for negative price\n",
    "data[data['actual_price']<0]"
   ]
  },
  {
   "cell_type": "code",
   "execution_count": 20,
   "id": "4b074398-1767-4b88-8a73-0795a9bebd27",
   "metadata": {},
   "outputs": [
    {
     "data": {
      "text/html": [
       "<div>\n",
       "<style scoped>\n",
       "    .dataframe tbody tr th:only-of-type {\n",
       "        vertical-align: middle;\n",
       "    }\n",
       "\n",
       "    .dataframe tbody tr th {\n",
       "        vertical-align: top;\n",
       "    }\n",
       "\n",
       "    .dataframe thead th {\n",
       "        text-align: right;\n",
       "    }\n",
       "</style>\n",
       "<table border=\"1\" class=\"dataframe\">\n",
       "  <thead>\n",
       "    <tr style=\"text-align: right;\">\n",
       "      <th></th>\n",
       "      <th>_id</th>\n",
       "      <th>actual_price</th>\n",
       "      <th>average_rating</th>\n",
       "      <th>brand</th>\n",
       "      <th>category</th>\n",
       "      <th>crawled_at</th>\n",
       "      <th>description</th>\n",
       "      <th>discount</th>\n",
       "      <th>images</th>\n",
       "      <th>out_of_stock</th>\n",
       "      <th>pid</th>\n",
       "      <th>product_details</th>\n",
       "      <th>seller</th>\n",
       "      <th>selling_price</th>\n",
       "      <th>sub_category</th>\n",
       "      <th>title</th>\n",
       "      <th>url</th>\n",
       "    </tr>\n",
       "  </thead>\n",
       "  <tbody>\n",
       "  </tbody>\n",
       "</table>\n",
       "</div>"
      ],
      "text/plain": [
       "Empty DataFrame\n",
       "Columns: [_id, actual_price, average_rating, brand, category, crawled_at, description, discount, images, out_of_stock, pid, product_details, seller, selling_price, sub_category, title, url]\n",
       "Index: []"
      ]
     },
     "execution_count": 20,
     "metadata": {},
     "output_type": "execute_result"
    }
   ],
   "source": [
    "# Checking for negative price\n",
    "data[data['selling_price']<0]"
   ]
  },
  {
   "cell_type": "markdown",
   "id": "ab0c5547-bb09-4053-948e-13ef0f5c37c6",
   "metadata": {},
   "source": [
    "##### Dealing With null values"
   ]
  },
  {
   "cell_type": "code",
   "execution_count": 21,
   "id": "ba81bfeb-57df-44e6-9eee-ce10af6ba0f5",
   "metadata": {},
   "outputs": [
    {
     "data": {
      "text/plain": [
       "<Axes: >"
      ]
     },
     "execution_count": 21,
     "metadata": {},
     "output_type": "execute_result"
    },
    {
     "data": {
      "image/png": "[encoded data removed]",
      "text/plain": [
       "<Figure size 640x480 with 1 Axes>"
      ]
     },
     "metadata": {},
     "output_type": "display_data"
    }
   ],
   "source": [
    "# Plotting the null values\n",
    "sns.heatmap(data.isnull(),yticklabels=False,cbar=False,cmap='viridis')"
   ]
  },
  {
   "cell_type": "code",
   "execution_count": 22,
   "id": "54c0967d-4c84-4cde-8e3d-003d298d54eb",
   "metadata": {},
   "outputs": [
    {
     "data": {
      "text/plain": [
       "_id                    0\n",
       "actual_price         777\n",
       "average_rating      2261\n",
       "brand               2009\n",
       "category               0\n",
       "crawled_at             0\n",
       "description        11150\n",
       "discount             855\n",
       "images                 0\n",
       "out_of_stock           0\n",
       "pid                    0\n",
       "product_details        0\n",
       "seller              1643\n",
       "selling_price          2\n",
       "sub_category           0\n",
       "title                  0\n",
       "url                    0\n",
       "dtype: int64"
      ]
     },
     "execution_count": 22,
     "metadata": {},
     "output_type": "execute_result"
    }
   ],
   "source": [
    "# Checking for null values\n",
    "data.isna().sum()"
   ]
  },
  {
   "cell_type": "code",
   "execution_count": 23,
   "id": "58e9f8e2-9675-4c5d-ab15-9c0c5f28427a",
   "metadata": {},
   "outputs": [
    {
     "data": {
      "text/plain": [
       "(1301, 17)"
      ]
     },
     "execution_count": 23,
     "metadata": {},
     "output_type": "execute_result"
    }
   ],
   "source": [
    "# Finding the seller name with brand\n",
    "data[data['seller'].isna() & data['brand'].notna()].shape"
   ]
  },
  {
   "cell_type": "code",
   "execution_count": 24,
   "id": "ae491952-1a6a-495c-ad83-3dd24149a194",
   "metadata": {},
   "outputs": [],
   "source": [
    "# Replacing the seller name with mode of groupedby brand\n",
    "data['seller'] = data['seller'].fillna((data.groupby('brand')['seller']).agg(pd.Series.mode))"
   ]
  },
  {
   "cell_type": "code",
   "execution_count": 25,
   "id": "a9009909-ec0f-4940-a41e-7c3d2df0ebe0",
   "metadata": {},
   "outputs": [
    {
     "data": {
      "text/plain": [
       "(1667, 17)"
      ]
     },
     "execution_count": 25,
     "metadata": {},
     "output_type": "execute_result"
    }
   ],
   "source": [
    "# Finding the brand name with seller\n",
    "data[data['brand'].isna() & data['seller'].notna()].shape"
   ]
  },
  {
   "cell_type": "code",
   "execution_count": 26,
   "id": "5800f7d4-9569-4120-b22a-63b85808e72e",
   "metadata": {
    "scrolled": true
   },
   "outputs": [],
   "source": [
    "# Replacing the brand name with mode of groupedby seller\n",
    "data['brand'] = data['brand'].fillna((data.groupby('seller')['brand']).agg(pd.Series.mode))"
   ]
  },
  {
   "cell_type": "code",
   "execution_count": 27,
   "id": "db42c424-4077-4d25-95e8-7b742f682a87",
   "metadata": {},
   "outputs": [
    {
     "data": {
      "text/plain": [
       "(751, 17)"
      ]
     },
     "execution_count": 27,
     "metadata": {},
     "output_type": "execute_result"
    }
   ],
   "source": [
    "# Finding the discount with brand\n",
    "data[data['discount'].isna() & data['brand'].notna()].shape"
   ]
  },
  {
   "cell_type": "code",
   "execution_count": 28,
   "id": "0b2dcf48-b759-47df-aebe-d2e94dc67c27",
   "metadata": {},
   "outputs": [],
   "source": [
    "# Replacing the discount with mean discount of brand\n",
    "data['discount']=data['discount'].fillna((data.groupby('brand')['discount']).transform('mean'))"
   ]
  },
  {
   "cell_type": "code",
   "execution_count": 29,
   "id": "4bf3e066-15c3-481f-8072-853348163d6f",
   "metadata": {},
   "outputs": [
    {
     "data": {
      "text/plain": [
       "(458, 17)"
      ]
     },
     "execution_count": 29,
     "metadata": {},
     "output_type": "execute_result"
    }
   ],
   "source": [
    "# Finding the actual price with discount and selling price\n",
    "data[data['actual_price'].isna() & data['discount'].notna() & data['selling_price'].notna()].shape"
   ]
  },
  {
   "cell_type": "code",
   "execution_count": 30,
   "id": "807f80c4-d77b-4c6c-baa8-4df39491e60b",
   "metadata": {},
   "outputs": [],
   "source": [
    "# Filling the actual price\n",
    "data['actual_price']=data['actual_price'].fillna((data['selling_price']*100)/data['discount'])"
   ]
  },
  {
   "cell_type": "code",
   "execution_count": 31,
   "id": "00435b74-81c6-49eb-aa32-67e9dfd898ae",
   "metadata": {},
   "outputs": [],
   "source": [
    "# Filling the average rating column\n",
    "data['average_rating']=data['average_rating'].fillna(data.groupby(['brand','seller'])['average_rating'].transform('mean'))"
   ]
  },
  {
   "cell_type": "code",
   "execution_count": 32,
   "id": "eae92b3e-20fc-4eaf-b1fc-831b6276ca2a",
   "metadata": {},
   "outputs": [
    {
     "data": {
      "text/plain": [
       "<Axes: >"
      ]
     },
     "execution_count": 32,
     "metadata": {},
     "output_type": "execute_result"
    },
    {
     "data": {
      "image/png": "[encoded data removed]",
      "text/plain": [
       "<Figure size 640x480 with 1 Axes>"
      ]
     },
     "metadata": {},
     "output_type": "display_data"
    }
   ],
   "source": [
    "# Plotting the null values\n",
    "sns.heatmap(data.isnull(),yticklabels=False,cbar=False,cmap='viridis')"
   ]
  },
  {
   "cell_type": "code",
   "execution_count": 33,
   "id": "3a0a9a5e-5813-4412-8f54-b2a30ddb3cbe",
   "metadata": {},
   "outputs": [
    {
     "data": {
      "text/plain": [
       "_id                    0\n",
       "actual_price         319\n",
       "average_rating      1975\n",
       "brand               2009\n",
       "category               0\n",
       "crawled_at             0\n",
       "description        11150\n",
       "discount             321\n",
       "images                 0\n",
       "out_of_stock           0\n",
       "pid                    0\n",
       "product_details        0\n",
       "seller              1643\n",
       "selling_price          2\n",
       "sub_category           0\n",
       "title                  0\n",
       "url                    0\n",
       "dtype: int64"
      ]
     },
     "execution_count": 33,
     "metadata": {},
     "output_type": "execute_result"
    }
   ],
   "source": [
    "# Null values\n",
    "data.isna().sum()"
   ]
  },
  {
   "cell_type": "code",
   "execution_count": 34,
   "id": "b8f68a49-834f-423d-8a8b-7f6a72ab7355",
   "metadata": {},
   "outputs": [],
   "source": [
    "# Filling the average rating column\n",
    "data['average_rating']=data['average_rating'].fillna(data.groupby('brand')['average_rating'].transform('mean'))"
   ]
  },
  {
   "cell_type": "code",
   "execution_count": 35,
   "id": "02e2685b-95f6-4130-9b94-4e3706049c36",
   "metadata": {},
   "outputs": [
    {
     "data": {
      "text/plain": [
       "_id                    0\n",
       "actual_price         319\n",
       "average_rating      1288\n",
       "brand               2009\n",
       "category               0\n",
       "crawled_at             0\n",
       "description        11150\n",
       "discount             321\n",
       "images                 0\n",
       "out_of_stock           0\n",
       "pid                    0\n",
       "product_details        0\n",
       "seller              1643\n",
       "selling_price          2\n",
       "sub_category           0\n",
       "title                  0\n",
       "url                    0\n",
       "dtype: int64"
      ]
     },
     "execution_count": 35,
     "metadata": {},
     "output_type": "execute_result"
    }
   ],
   "source": [
    "# Null values\n",
    "data.isna().sum()"
   ]
  },
  {
   "cell_type": "code",
   "execution_count": 36,
   "id": "73e53a3a-7a7e-42ec-807b-2b55ce040737",
   "metadata": {},
   "outputs": [
    {
     "data": {
      "text/plain": [
       "(28080, 17)"
      ]
     },
     "execution_count": 36,
     "metadata": {},
     "output_type": "execute_result"
    }
   ],
   "source": [
    "data.shape"
   ]
  },
  {
   "cell_type": "code",
   "execution_count": 38,
   "id": "d25b93ad-8ce3-47ae-917f-09827e1d6e67",
   "metadata": {},
   "outputs": [],
   "source": [
    "data.to_csv('fashion.csv',index=False)"
   ]
  }
 ],
 "metadata": {
  "kernelspec": {
   "display_name": "Python 3 (ipykernel)",
   "language": "python",
   "name": "python3"
  },
  "language_info": {
   "codemirror_mode": {
    "name": "ipython",
    "version": 3
   },
   "file_extension": ".py",
   "mimetype": "text/x-python",
   "name": "python",
   "nbconvert_exporter": "python",
   "pygments_lexer": "ipython3",
   "version": "3.11.5"
  }
 },
 "nbformat": 4,
 "nbformat_minor": 5
}
